{
  "nbformat": 4,
  "nbformat_minor": 0,
  "metadata": {
    "colab": {
      "provenance": [],
      "collapsed_sections": [],
      "authorship_tag": "ABX9TyOjYefNGASJsJsTZ3hKt2FR"
    },
    "kernelspec": {
      "name": "python3",
      "display_name": "Python 3"
    },
    "language_info": {
      "name": "python"
    }
  },
  "cells": [
    {
      "cell_type": "code",
      "execution_count": 1,
      "metadata": {
        "id": "V9jGUh_8clOO"
      },
      "outputs": [],
      "source": [
        "import warnings\n",
        "warnings.filterwarnings(\"ignore\")"
      ]
    },
    {
      "cell_type": "code",
      "source": [
        "import pandas as pd\n",
        "import yfinance as yf\n",
        "import datetime\n",
        "import numpy as np"
      ],
      "metadata": {
        "id": "KFOnmDyMcyVO"
      },
      "execution_count": 29,
      "outputs": []
    },
    {
      "cell_type": "code",
      "source": [
        "startDate = datetime.datetime(2019, 10, 31)\n",
        "endDate=datetime.datetime(2022, 10, 31)"
      ],
      "metadata": {
        "id": "JQv_EuTedKPt"
      },
      "execution_count": 5,
      "outputs": []
    },
    {
      "cell_type": "code",
      "source": [
        "ap_info=yf.Ticker(\"ADANIPOWER.NS\")\n",
        "godrej_info=yf.Ticker(\"GODREJCP.NS\")\n",
        "tcs_info=yf.Ticker(\"TCS.NS\")\n",
        "tatapow_info=yf.Ticker(\"TATAPOWER.NS\")\n",
        "tatachem_info=yf.Ticker(\"TATACHEM.NS\")"
      ],
      "metadata": {
        "id": "ePompGGmeN7W"
      },
      "execution_count": 6,
      "outputs": []
    },
    {
      "cell_type": "code",
      "source": [
        "apdf=ap_info.history(start=startDate,end=endDate)\n",
        "godrejdf=godrej_info.history(start=startDate,end=endDate)\n",
        "tcsdf=tcs_info.history(start=startDate,end=endDate)\n",
        "tatapowdf=tatapow_info.history(start=startDate,end=endDate)\n",
        "tatachemdf=tatachem_info.history(start=startDate,end=endDate)"
      ],
      "metadata": {
        "id": "cLLn0ptcfele"
      },
      "execution_count": 7,
      "outputs": []
    },
    {
      "cell_type": "code",
      "source": [
        "maindf=apdf"
      ],
      "metadata": {
        "id": "rPxWBaubgdur"
      },
      "execution_count": 8,
      "outputs": []
    },
    {
      "cell_type": "code",
      "source": [
        "maindf=maindf.drop(['Open', 'High', 'Low', 'Volume', 'Dividends', 'Stock Splits'],axis=1)"
      ],
      "metadata": {
        "id": "vG6r49Dxf9JU"
      },
      "execution_count": 9,
      "outputs": []
    },
    {
      "cell_type": "code",
      "source": [
        "maindf.columns=['ADANIPOWER']"
      ],
      "metadata": {
        "id": "L0ZGFIcCgBJV"
      },
      "execution_count": 10,
      "outputs": []
    },
    {
      "cell_type": "code",
      "source": [
        "maindf.head()"
      ],
      "metadata": {
        "colab": {
          "base_uri": "https://localhost:8080/",
          "height": 237
        },
        "id": "ADiPzhgOg0CN",
        "outputId": "8d94e555-09af-4e8e-f02c-5534603a1ed0"
      },
      "execution_count": 11,
      "outputs": [
        {
          "output_type": "execute_result",
          "data": {
            "text/plain": [
              "                           ADANIPOWER\n",
              "Date                                 \n",
              "2019-10-31 00:00:00+05:30   66.050003\n",
              "2019-11-01 00:00:00+05:30   67.900002\n",
              "2019-11-04 00:00:00+05:30   71.599998\n",
              "2019-11-05 00:00:00+05:30   69.900002\n",
              "2019-11-06 00:00:00+05:30   71.099998"
            ],
            "text/html": [
              "\n",
              "  <div id=\"df-2832c504-21b9-48ec-ad4c-5faed5d84508\">\n",
              "    <div class=\"colab-df-container\">\n",
              "      <div>\n",
              "<style scoped>\n",
              "    .dataframe tbody tr th:only-of-type {\n",
              "        vertical-align: middle;\n",
              "    }\n",
              "\n",
              "    .dataframe tbody tr th {\n",
              "        vertical-align: top;\n",
              "    }\n",
              "\n",
              "    .dataframe thead th {\n",
              "        text-align: right;\n",
              "    }\n",
              "</style>\n",
              "<table border=\"1\" class=\"dataframe\">\n",
              "  <thead>\n",
              "    <tr style=\"text-align: right;\">\n",
              "      <th></th>\n",
              "      <th>ADANIPOWER</th>\n",
              "    </tr>\n",
              "    <tr>\n",
              "      <th>Date</th>\n",
              "      <th></th>\n",
              "    </tr>\n",
              "  </thead>\n",
              "  <tbody>\n",
              "    <tr>\n",
              "      <th>2019-10-31 00:00:00+05:30</th>\n",
              "      <td>66.050003</td>\n",
              "    </tr>\n",
              "    <tr>\n",
              "      <th>2019-11-01 00:00:00+05:30</th>\n",
              "      <td>67.900002</td>\n",
              "    </tr>\n",
              "    <tr>\n",
              "      <th>2019-11-04 00:00:00+05:30</th>\n",
              "      <td>71.599998</td>\n",
              "    </tr>\n",
              "    <tr>\n",
              "      <th>2019-11-05 00:00:00+05:30</th>\n",
              "      <td>69.900002</td>\n",
              "    </tr>\n",
              "    <tr>\n",
              "      <th>2019-11-06 00:00:00+05:30</th>\n",
              "      <td>71.099998</td>\n",
              "    </tr>\n",
              "  </tbody>\n",
              "</table>\n",
              "</div>\n",
              "      <button class=\"colab-df-convert\" onclick=\"convertToInteractive('df-2832c504-21b9-48ec-ad4c-5faed5d84508')\"\n",
              "              title=\"Convert this dataframe to an interactive table.\"\n",
              "              style=\"display:none;\">\n",
              "        \n",
              "  <svg xmlns=\"http://www.w3.org/2000/svg\" height=\"24px\"viewBox=\"0 0 24 24\"\n",
              "       width=\"24px\">\n",
              "    <path d=\"M0 0h24v24H0V0z\" fill=\"none\"/>\n",
              "    <path d=\"M18.56 5.44l.94 2.06.94-2.06 2.06-.94-2.06-.94-.94-2.06-.94 2.06-2.06.94zm-11 1L8.5 8.5l.94-2.06 2.06-.94-2.06-.94L8.5 2.5l-.94 2.06-2.06.94zm10 10l.94 2.06.94-2.06 2.06-.94-2.06-.94-.94-2.06-.94 2.06-2.06.94z\"/><path d=\"M17.41 7.96l-1.37-1.37c-.4-.4-.92-.59-1.43-.59-.52 0-1.04.2-1.43.59L10.3 9.45l-7.72 7.72c-.78.78-.78 2.05 0 2.83L4 21.41c.39.39.9.59 1.41.59.51 0 1.02-.2 1.41-.59l7.78-7.78 2.81-2.81c.8-.78.8-2.07 0-2.86zM5.41 20L4 18.59l7.72-7.72 1.47 1.35L5.41 20z\"/>\n",
              "  </svg>\n",
              "      </button>\n",
              "      \n",
              "  <style>\n",
              "    .colab-df-container {\n",
              "      display:flex;\n",
              "      flex-wrap:wrap;\n",
              "      gap: 12px;\n",
              "    }\n",
              "\n",
              "    .colab-df-convert {\n",
              "      background-color: #E8F0FE;\n",
              "      border: none;\n",
              "      border-radius: 50%;\n",
              "      cursor: pointer;\n",
              "      display: none;\n",
              "      fill: #1967D2;\n",
              "      height: 32px;\n",
              "      padding: 0 0 0 0;\n",
              "      width: 32px;\n",
              "    }\n",
              "\n",
              "    .colab-df-convert:hover {\n",
              "      background-color: #E2EBFA;\n",
              "      box-shadow: 0px 1px 2px rgba(60, 64, 67, 0.3), 0px 1px 3px 1px rgba(60, 64, 67, 0.15);\n",
              "      fill: #174EA6;\n",
              "    }\n",
              "\n",
              "    [theme=dark] .colab-df-convert {\n",
              "      background-color: #3B4455;\n",
              "      fill: #D2E3FC;\n",
              "    }\n",
              "\n",
              "    [theme=dark] .colab-df-convert:hover {\n",
              "      background-color: #434B5C;\n",
              "      box-shadow: 0px 1px 3px 1px rgba(0, 0, 0, 0.15);\n",
              "      filter: drop-shadow(0px 1px 2px rgba(0, 0, 0, 0.3));\n",
              "      fill: #FFFFFF;\n",
              "    }\n",
              "  </style>\n",
              "\n",
              "      <script>\n",
              "        const buttonEl =\n",
              "          document.querySelector('#df-2832c504-21b9-48ec-ad4c-5faed5d84508 button.colab-df-convert');\n",
              "        buttonEl.style.display =\n",
              "          google.colab.kernel.accessAllowed ? 'block' : 'none';\n",
              "\n",
              "        async function convertToInteractive(key) {\n",
              "          const element = document.querySelector('#df-2832c504-21b9-48ec-ad4c-5faed5d84508');\n",
              "          const dataTable =\n",
              "            await google.colab.kernel.invokeFunction('convertToInteractive',\n",
              "                                                     [key], {});\n",
              "          if (!dataTable) return;\n",
              "\n",
              "          const docLinkHtml = 'Like what you see? Visit the ' +\n",
              "            '<a target=\"_blank\" href=https://colab.research.google.com/notebooks/data_table.ipynb>data table notebook</a>'\n",
              "            + ' to learn more about interactive tables.';\n",
              "          element.innerHTML = '';\n",
              "          dataTable['output_type'] = 'display_data';\n",
              "          await google.colab.output.renderOutput(dataTable, element);\n",
              "          const docLink = document.createElement('div');\n",
              "          docLink.innerHTML = docLinkHtml;\n",
              "          element.appendChild(docLink);\n",
              "        }\n",
              "      </script>\n",
              "    </div>\n",
              "  </div>\n",
              "  "
            ]
          },
          "metadata": {},
          "execution_count": 11
        }
      ]
    },
    {
      "cell_type": "code",
      "source": [
        "maindf['GODREJ']=godrejdf.Close"
      ],
      "metadata": {
        "id": "b5q8TLPLhps-"
      },
      "execution_count": 12,
      "outputs": []
    },
    {
      "cell_type": "code",
      "source": [
        "maindf['TCS']=tcsdf.Close\n",
        "maindf['TATAPOWER']=tatapowdf.Close\n",
        "maindf['TATACHEM']=tatachemdf.Close"
      ],
      "metadata": {
        "id": "8dvzO-ZIhyTm"
      },
      "execution_count": 13,
      "outputs": []
    },
    {
      "cell_type": "code",
      "source": [
        "maindf.head()"
      ],
      "metadata": {
        "colab": {
          "base_uri": "https://localhost:8080/",
          "height": 237
        },
        "id": "u--DMpfLhzYu",
        "outputId": "7a7629f5-3a37-4560-db48-b97404b3580b"
      },
      "execution_count": 14,
      "outputs": [
        {
          "output_type": "execute_result",
          "data": {
            "text/plain": [
              "                           ADANIPOWER      GODREJ          TCS  TATAPOWER  \\\n",
              "Date                                                                        \n",
              "2019-10-31 00:00:00+05:30   66.050003  736.063904  2172.936523  56.291214   \n",
              "2019-11-01 00:00:00+05:30   67.900002  733.777161  2107.115723  56.481068   \n",
              "2019-11-04 00:00:00+05:30   71.599998  716.825928  2100.462891  56.670918   \n",
              "2019-11-05 00:00:00+05:30   69.900002  717.323059  2108.025635  55.721661   \n",
              "2019-11-06 00:00:00+05:30   71.099998  737.256958  2095.244629  55.911510   \n",
              "\n",
              "                             TATACHEM  \n",
              "Date                                   \n",
              "2019-10-31 00:00:00+05:30  572.279602  \n",
              "2019-11-01 00:00:00+05:30  579.538147  \n",
              "2019-11-04 00:00:00+05:30  580.542419  \n",
              "2019-11-05 00:00:00+05:30  581.455444  \n",
              "2019-11-06 00:00:00+05:30  587.572693  "
            ],
            "text/html": [
              "\n",
              "  <div id=\"df-b565245a-826e-4d2f-8c4a-3ac4d9613b37\">\n",
              "    <div class=\"colab-df-container\">\n",
              "      <div>\n",
              "<style scoped>\n",
              "    .dataframe tbody tr th:only-of-type {\n",
              "        vertical-align: middle;\n",
              "    }\n",
              "\n",
              "    .dataframe tbody tr th {\n",
              "        vertical-align: top;\n",
              "    }\n",
              "\n",
              "    .dataframe thead th {\n",
              "        text-align: right;\n",
              "    }\n",
              "</style>\n",
              "<table border=\"1\" class=\"dataframe\">\n",
              "  <thead>\n",
              "    <tr style=\"text-align: right;\">\n",
              "      <th></th>\n",
              "      <th>ADANIPOWER</th>\n",
              "      <th>GODREJ</th>\n",
              "      <th>TCS</th>\n",
              "      <th>TATAPOWER</th>\n",
              "      <th>TATACHEM</th>\n",
              "    </tr>\n",
              "    <tr>\n",
              "      <th>Date</th>\n",
              "      <th></th>\n",
              "      <th></th>\n",
              "      <th></th>\n",
              "      <th></th>\n",
              "      <th></th>\n",
              "    </tr>\n",
              "  </thead>\n",
              "  <tbody>\n",
              "    <tr>\n",
              "      <th>2019-10-31 00:00:00+05:30</th>\n",
              "      <td>66.050003</td>\n",
              "      <td>736.063904</td>\n",
              "      <td>2172.936523</td>\n",
              "      <td>56.291214</td>\n",
              "      <td>572.279602</td>\n",
              "    </tr>\n",
              "    <tr>\n",
              "      <th>2019-11-01 00:00:00+05:30</th>\n",
              "      <td>67.900002</td>\n",
              "      <td>733.777161</td>\n",
              "      <td>2107.115723</td>\n",
              "      <td>56.481068</td>\n",
              "      <td>579.538147</td>\n",
              "    </tr>\n",
              "    <tr>\n",
              "      <th>2019-11-04 00:00:00+05:30</th>\n",
              "      <td>71.599998</td>\n",
              "      <td>716.825928</td>\n",
              "      <td>2100.462891</td>\n",
              "      <td>56.670918</td>\n",
              "      <td>580.542419</td>\n",
              "    </tr>\n",
              "    <tr>\n",
              "      <th>2019-11-05 00:00:00+05:30</th>\n",
              "      <td>69.900002</td>\n",
              "      <td>717.323059</td>\n",
              "      <td>2108.025635</td>\n",
              "      <td>55.721661</td>\n",
              "      <td>581.455444</td>\n",
              "    </tr>\n",
              "    <tr>\n",
              "      <th>2019-11-06 00:00:00+05:30</th>\n",
              "      <td>71.099998</td>\n",
              "      <td>737.256958</td>\n",
              "      <td>2095.244629</td>\n",
              "      <td>55.911510</td>\n",
              "      <td>587.572693</td>\n",
              "    </tr>\n",
              "  </tbody>\n",
              "</table>\n",
              "</div>\n",
              "      <button class=\"colab-df-convert\" onclick=\"convertToInteractive('df-b565245a-826e-4d2f-8c4a-3ac4d9613b37')\"\n",
              "              title=\"Convert this dataframe to an interactive table.\"\n",
              "              style=\"display:none;\">\n",
              "        \n",
              "  <svg xmlns=\"http://www.w3.org/2000/svg\" height=\"24px\"viewBox=\"0 0 24 24\"\n",
              "       width=\"24px\">\n",
              "    <path d=\"M0 0h24v24H0V0z\" fill=\"none\"/>\n",
              "    <path d=\"M18.56 5.44l.94 2.06.94-2.06 2.06-.94-2.06-.94-.94-2.06-.94 2.06-2.06.94zm-11 1L8.5 8.5l.94-2.06 2.06-.94-2.06-.94L8.5 2.5l-.94 2.06-2.06.94zm10 10l.94 2.06.94-2.06 2.06-.94-2.06-.94-.94-2.06-.94 2.06-2.06.94z\"/><path d=\"M17.41 7.96l-1.37-1.37c-.4-.4-.92-.59-1.43-.59-.52 0-1.04.2-1.43.59L10.3 9.45l-7.72 7.72c-.78.78-.78 2.05 0 2.83L4 21.41c.39.39.9.59 1.41.59.51 0 1.02-.2 1.41-.59l7.78-7.78 2.81-2.81c.8-.78.8-2.07 0-2.86zM5.41 20L4 18.59l7.72-7.72 1.47 1.35L5.41 20z\"/>\n",
              "  </svg>\n",
              "      </button>\n",
              "      \n",
              "  <style>\n",
              "    .colab-df-container {\n",
              "      display:flex;\n",
              "      flex-wrap:wrap;\n",
              "      gap: 12px;\n",
              "    }\n",
              "\n",
              "    .colab-df-convert {\n",
              "      background-color: #E8F0FE;\n",
              "      border: none;\n",
              "      border-radius: 50%;\n",
              "      cursor: pointer;\n",
              "      display: none;\n",
              "      fill: #1967D2;\n",
              "      height: 32px;\n",
              "      padding: 0 0 0 0;\n",
              "      width: 32px;\n",
              "    }\n",
              "\n",
              "    .colab-df-convert:hover {\n",
              "      background-color: #E2EBFA;\n",
              "      box-shadow: 0px 1px 2px rgba(60, 64, 67, 0.3), 0px 1px 3px 1px rgba(60, 64, 67, 0.15);\n",
              "      fill: #174EA6;\n",
              "    }\n",
              "\n",
              "    [theme=dark] .colab-df-convert {\n",
              "      background-color: #3B4455;\n",
              "      fill: #D2E3FC;\n",
              "    }\n",
              "\n",
              "    [theme=dark] .colab-df-convert:hover {\n",
              "      background-color: #434B5C;\n",
              "      box-shadow: 0px 1px 3px 1px rgba(0, 0, 0, 0.15);\n",
              "      filter: drop-shadow(0px 1px 2px rgba(0, 0, 0, 0.3));\n",
              "      fill: #FFFFFF;\n",
              "    }\n",
              "  </style>\n",
              "\n",
              "      <script>\n",
              "        const buttonEl =\n",
              "          document.querySelector('#df-b565245a-826e-4d2f-8c4a-3ac4d9613b37 button.colab-df-convert');\n",
              "        buttonEl.style.display =\n",
              "          google.colab.kernel.accessAllowed ? 'block' : 'none';\n",
              "\n",
              "        async function convertToInteractive(key) {\n",
              "          const element = document.querySelector('#df-b565245a-826e-4d2f-8c4a-3ac4d9613b37');\n",
              "          const dataTable =\n",
              "            await google.colab.kernel.invokeFunction('convertToInteractive',\n",
              "                                                     [key], {});\n",
              "          if (!dataTable) return;\n",
              "\n",
              "          const docLinkHtml = 'Like what you see? Visit the ' +\n",
              "            '<a target=\"_blank\" href=https://colab.research.google.com/notebooks/data_table.ipynb>data table notebook</a>'\n",
              "            + ' to learn more about interactive tables.';\n",
              "          element.innerHTML = '';\n",
              "          dataTable['output_type'] = 'display_data';\n",
              "          await google.colab.output.renderOutput(dataTable, element);\n",
              "          const docLink = document.createElement('div');\n",
              "          docLink.innerHTML = docLinkHtml;\n",
              "          element.appendChild(docLink);\n",
              "        }\n",
              "      </script>\n",
              "    </div>\n",
              "  </div>\n",
              "  "
            ]
          },
          "metadata": {},
          "execution_count": 14
        }
      ]
    },
    {
      "cell_type": "code",
      "source": [
        "maindf.isna().sum()"
      ],
      "metadata": {
        "colab": {
          "base_uri": "https://localhost:8080/"
        },
        "id": "haY20CdCiEjW",
        "outputId": "780815d3-9d94-4aa9-b6b6-0051dfe007d5"
      },
      "execution_count": 15,
      "outputs": [
        {
          "output_type": "execute_result",
          "data": {
            "text/plain": [
              "ADANIPOWER    0\n",
              "GODREJ        0\n",
              "TCS           0\n",
              "TATAPOWER     0\n",
              "TATACHEM      0\n",
              "dtype: int64"
            ]
          },
          "metadata": {},
          "execution_count": 15
        }
      ]
    },
    {
      "cell_type": "code",
      "source": [
        "import matplotlib.pyplot as plt\n",
        "plt.rcParams[\"figure.figsize\"] = (20,8)"
      ],
      "metadata": {
        "id": "PPZ1T_lZiH8t"
      },
      "execution_count": 16,
      "outputs": []
    },
    {
      "cell_type": "code",
      "source": [
        "maindf.plot()"
      ],
      "metadata": {
        "colab": {
          "base_uri": "https://localhost:8080/",
          "height": 490
        },
        "id": "aose8AmHjXJ9",
        "outputId": "e9ac6274-a86c-4c48-c93b-59620a1990b9"
      },
      "execution_count": 17,
      "outputs": [
        {
          "output_type": "execute_result",
          "data": {
            "text/plain": [
              "<matplotlib.axes._subplots.AxesSubplot at 0x7f57a934f310>"
            ]
          },
          "metadata": {},
          "execution_count": 17
        },
        {
          "output_type": "display_data",
          "data": {
            "text/plain": [
              "<Figure size 1440x576 with 1 Axes>"
            ],
            "image/png": "[encoded data removed]"
          },
          "metadata": {
            "needs_background": "light"
          }
        }
      ]
    },
    {
      "cell_type": "markdown",
      "source": [
        "#Calculating Returns"
      ],
      "metadata": {
        "id": "cgYk5ovXo3vd"
      }
    },
    {
      "cell_type": "markdown",
      "source": [
        "**We are making return calculations as percentage change in closing price of the stock over the previous days closing price**"
      ],
      "metadata": {
        "id": "S7BUtuJNpMFi"
      }
    },
    {
      "cell_type": "code",
      "source": [
        "ret=maindf.pct_change()"
      ],
      "metadata": {
        "id": "0KrEiYzYjZD9"
      },
      "execution_count": 18,
      "outputs": []
    },
    {
      "cell_type": "code",
      "source": [
        "ret.head()"
      ],
      "metadata": {
        "colab": {
          "base_uri": "https://localhost:8080/",
          "height": 237
        },
        "id": "L7uyYmCTo8Y3",
        "outputId": "b6c2d400-c723-472f-eb5a-2ecb0b7654b7"
      },
      "execution_count": 19,
      "outputs": [
        {
          "output_type": "execute_result",
          "data": {
            "text/plain": [
              "                           ADANIPOWER    GODREJ       TCS  TATAPOWER  TATACHEM\n",
              "Date                                                                          \n",
              "2019-10-31 00:00:00+05:30         NaN       NaN       NaN        NaN       NaN\n",
              "2019-11-01 00:00:00+05:30    0.028009 -0.003107 -0.030291   0.003373  0.012684\n",
              "2019-11-04 00:00:00+05:30    0.054492 -0.023101 -0.003157   0.003361  0.001733\n",
              "2019-11-05 00:00:00+05:30   -0.023743  0.000694  0.003601  -0.016750  0.001573\n",
              "2019-11-06 00:00:00+05:30    0.017167  0.027789 -0.006063   0.003407  0.010521"
            ],
            "text/html": [
              "\n",
              "  <div id=\"df-e62c91f9-a5ec-44cb-866c-04e6d7831e14\">\n",
              "    <div class=\"colab-df-container\">\n",
              "      <div>\n",
              "<style scoped>\n",
              "    .dataframe tbody tr th:only-of-type {\n",
              "        vertical-align: middle;\n",
              "    }\n",
              "\n",
              "    .dataframe tbody tr th {\n",
              "        vertical-align: top;\n",
              "    }\n",
              "\n",
              "    .dataframe thead th {\n",
              "        text-align: right;\n",
              "    }\n",
              "</style>\n",
              "<table border=\"1\" class=\"dataframe\">\n",
              "  <thead>\n",
              "    <tr style=\"text-align: right;\">\n",
              "      <th></th>\n",
              "      <th>ADANIPOWER</th>\n",
              "      <th>GODREJ</th>\n",
              "      <th>TCS</th>\n",
              "      <th>TATAPOWER</th>\n",
              "      <th>TATACHEM</th>\n",
              "    </tr>\n",
              "    <tr>\n",
              "      <th>Date</th>\n",
              "      <th></th>\n",
              "      <th></th>\n",
              "      <th></th>\n",
              "      <th></th>\n",
              "      <th></th>\n",
              "    </tr>\n",
              "  </thead>\n",
              "  <tbody>\n",
              "    <tr>\n",
              "      <th>2019-10-31 00:00:00+05:30</th>\n",
              "      <td>NaN</td>\n",
              "      <td>NaN</td>\n",
              "      <td>NaN</td>\n",
              "      <td>NaN</td>\n",
              "      <td>NaN</td>\n",
              "    </tr>\n",
              "    <tr>\n",
              "      <th>2019-11-01 00:00:00+05:30</th>\n",
              "      <td>0.028009</td>\n",
              "      <td>-0.003107</td>\n",
              "      <td>-0.030291</td>\n",
              "      <td>0.003373</td>\n",
              "      <td>0.012684</td>\n",
              "    </tr>\n",
              "    <tr>\n",
              "      <th>2019-11-04 00:00:00+05:30</th>\n",
              "      <td>0.054492</td>\n",
              "      <td>-0.023101</td>\n",
              "      <td>-0.003157</td>\n",
              "      <td>0.003361</td>\n",
              "      <td>0.001733</td>\n",
              "    </tr>\n",
              "    <tr>\n",
              "      <th>2019-11-05 00:00:00+05:30</th>\n",
              "      <td>-0.023743</td>\n",
              "      <td>0.000694</td>\n",
              "      <td>0.003601</td>\n",
              "      <td>-0.016750</td>\n",
              "      <td>0.001573</td>\n",
              "    </tr>\n",
              "    <tr>\n",
              "      <th>2019-11-06 00:00:00+05:30</th>\n",
              "      <td>0.017167</td>\n",
              "      <td>0.027789</td>\n",
              "      <td>-0.006063</td>\n",
              "      <td>0.003407</td>\n",
              "      <td>0.010521</td>\n",
              "    </tr>\n",
              "  </tbody>\n",
              "</table>\n",
              "</div>\n",
              "      <button class=\"colab-df-convert\" onclick=\"convertToInteractive('df-e62c91f9-a5ec-44cb-866c-04e6d7831e14')\"\n",
              "              title=\"Convert this dataframe to an interactive table.\"\n",
              "              style=\"display:none;\">\n",
              "        \n",
              "  <svg xmlns=\"http://www.w3.org/2000/svg\" height=\"24px\"viewBox=\"0 0 24 24\"\n",
              "       width=\"24px\">\n",
              "    <path d=\"M0 0h24v24H0V0z\" fill=\"none\"/>\n",
              "    <path d=\"M18.56 5.44l.94 2.06.94-2.06 2.06-.94-2.06-.94-.94-2.06-.94 2.06-2.06.94zm-11 1L8.5 8.5l.94-2.06 2.06-.94-2.06-.94L8.5 2.5l-.94 2.06-2.06.94zm10 10l.94 2.06.94-2.06 2.06-.94-2.06-.94-.94-2.06-.94 2.06-2.06.94z\"/><path d=\"M17.41 7.96l-1.37-1.37c-.4-.4-.92-.59-1.43-.59-.52 0-1.04.2-1.43.59L10.3 9.45l-7.72 7.72c-.78.78-.78 2.05 0 2.83L4 21.41c.39.39.9.59 1.41.59.51 0 1.02-.2 1.41-.59l7.78-7.78 2.81-2.81c.8-.78.8-2.07 0-2.86zM5.41 20L4 18.59l7.72-7.72 1.47 1.35L5.41 20z\"/>\n",
              "  </svg>\n",
              "      </button>\n",
              "      \n",
              "  <style>\n",
              "    .colab-df-container {\n",
              "      display:flex;\n",
              "      flex-wrap:wrap;\n",
              "      gap: 12px;\n",
              "    }\n",
              "\n",
              "    .colab-df-convert {\n",
              "      background-color: #E8F0FE;\n",
              "      border: none;\n",
              "      border-radius: 50%;\n",
              "      cursor: pointer;\n",
              "      display: none;\n",
              "      fill: #1967D2;\n",
              "      height: 32px;\n",
              "      padding: 0 0 0 0;\n",
              "      width: 32px;\n",
              "    }\n",
              "\n",
              "    .colab-df-convert:hover {\n",
              "      background-color: #E2EBFA;\n",
              "      box-shadow: 0px 1px 2px rgba(60, 64, 67, 0.3), 0px 1px 3px 1px rgba(60, 64, 67, 0.15);\n",
              "      fill: #174EA6;\n",
              "    }\n",
              "\n",
              "    [theme=dark] .colab-df-convert {\n",
              "      background-color: #3B4455;\n",
              "      fill: #D2E3FC;\n",
              "    }\n",
              "\n",
              "    [theme=dark] .colab-df-convert:hover {\n",
              "      background-color: #434B5C;\n",
              "      box-shadow: 0px 1px 3px 1px rgba(0, 0, 0, 0.15);\n",
              "      filter: drop-shadow(0px 1px 2px rgba(0, 0, 0, 0.3));\n",
              "      fill: #FFFFFF;\n",
              "    }\n",
              "  </style>\n",
              "\n",
              "      <script>\n",
              "        const buttonEl =\n",
              "          document.querySelector('#df-e62c91f9-a5ec-44cb-866c-04e6d7831e14 button.colab-df-convert');\n",
              "        buttonEl.style.display =\n",
              "          google.colab.kernel.accessAllowed ? 'block' : 'none';\n",
              "\n",
              "        async function convertToInteractive(key) {\n",
              "          const element = document.querySelector('#df-e62c91f9-a5ec-44cb-866c-04e6d7831e14');\n",
              "          const dataTable =\n",
              "            await google.colab.kernel.invokeFunction('convertToInteractive',\n",
              "                                                     [key], {});\n",
              "          if (!dataTable) return;\n",
              "\n",
              "          const docLinkHtml = 'Like what you see? Visit the ' +\n",
              "            '<a target=\"_blank\" href=https://colab.research.google.com/notebooks/data_table.ipynb>data table notebook</a>'\n",
              "            + ' to learn more about interactive tables.';\n",
              "          element.innerHTML = '';\n",
              "          dataTable['output_type'] = 'display_data';\n",
              "          await google.colab.output.renderOutput(dataTable, element);\n",
              "          const docLink = document.createElement('div');\n",
              "          docLink.innerHTML = docLinkHtml;\n",
              "          element.appendChild(docLink);\n",
              "        }\n",
              "      </script>\n",
              "    </div>\n",
              "  </div>\n",
              "  "
            ]
          },
          "metadata": {},
          "execution_count": 19
        }
      ]
    },
    {
      "cell_type": "markdown",
      "source": [
        "### Portfolio returns is the weighted sum of returns of the assets in the portfolio"
      ],
      "metadata": {
        "id": "1s88K6J4rlgW"
      }
    },
    {
      "cell_type": "markdown",
      "source": [
        "Initializing Random Weights which we will be optimizing later on"
      ],
      "metadata": {
        "id": "NG7w0Ynar22l"
      }
    },
    {
      "cell_type": "code",
      "source": [
        "weights=[0.3,0.3,0.2,0.1,0.1]"
      ],
      "metadata": {
        "id": "gnu5vhpqo-e3"
      },
      "execution_count": 20,
      "outputs": []
    },
    {
      "cell_type": "code",
      "source": [
        "ret_pf=ret.dot(weights)\n",
        "ret_pf.head()"
      ],
      "metadata": {
        "colab": {
          "base_uri": "https://localhost:8080/"
        },
        "id": "k_LKAmELpBAv",
        "outputId": "ddf0cea5-d1af-4b96-9951-f84430786b1d"
      },
      "execution_count": 21,
      "outputs": [
        {
          "output_type": "execute_result",
          "data": {
            "text/plain": [
              "Date\n",
              "2019-10-31 00:00:00+05:30         NaN\n",
              "2019-11-01 00:00:00+05:30    0.003018\n",
              "2019-11-04 00:00:00+05:30    0.009295\n",
              "2019-11-05 00:00:00+05:30   -0.007712\n",
              "2019-11-06 00:00:00+05:30    0.013667\n",
              "dtype: float64"
            ]
          },
          "metadata": {},
          "execution_count": 21
        }
      ]
    },
    {
      "cell_type": "markdown",
      "source": [
        "The above is the daily returns we got from our investments in simple terms , if i invested Rs. 100000  as per above weights in my portfolio the following will be the value of it everyday as per our calculation"
      ],
      "metadata": {
        "id": "ehdZ52IPsJKl"
      }
    },
    {
      "cell_type": "code",
      "source": [
        "ret_pf*100000"
      ],
      "metadata": {
        "colab": {
          "base_uri": "https://localhost:8080/"
        },
        "id": "5oPzVbhnsGyA",
        "outputId": "a174a91a-2f3e-44f7-d9ed-747d220d4208"
      },
      "execution_count": 22,
      "outputs": [
        {
          "output_type": "execute_result",
          "data": {
            "text/plain": [
              "Date\n",
              "2019-10-31 00:00:00+05:30            NaN\n",
              "2019-11-01 00:00:00+05:30     301.809430\n",
              "2019-11-04 00:00:00+05:30     929.511034\n",
              "2019-11-05 00:00:00+05:30    -771.249709\n",
              "2019-11-06 00:00:00+05:30    1366.715320\n",
              "                                ...     \n",
              "2022-10-21 00:00:00+05:30   -1197.747320\n",
              "2022-10-24 00:00:00+05:30     593.430601\n",
              "2022-10-25 00:00:00+05:30      23.991977\n",
              "2022-10-27 00:00:00+05:30    1258.802397\n",
              "2022-10-28 00:00:00+05:30   -1042.361809\n",
              "Length: 745, dtype: float64"
            ]
          },
          "metadata": {},
          "execution_count": 22
        }
      ]
    },
    {
      "cell_type": "markdown",
      "source": [
        "The above is indicative of profits earned and lost"
      ],
      "metadata": {
        "id": "wxnnjtInsdJy"
      }
    },
    {
      "cell_type": "markdown",
      "source": [
        "# Understanding Risks"
      ],
      "metadata": {
        "id": "RAMx2h2JOYmM"
      }
    },
    {
      "cell_type": "markdown",
      "source": [
        "Steps:\n",
        "\n",
        "1. Covariance Matrix Calculation\n",
        "2. Multiply by 252 to annualize Covariance\n",
        "\n",
        "**Note:** There are 252 Trading Days in a Year\n",
        "\n",
        "3. Calculate Portfolio Variance ( Portfolio * Weights)\n",
        "4. Take Root of the Result in **3** to get Standard Deviation, This is called Volatility of Portfolio"
      ],
      "metadata": {
        "id": "634LG3L3Orzo"
      }
    },
    {
      "cell_type": "code",
      "source": [
        "cov_mat=ret.cov()*252"
      ],
      "metadata": {
        "id": "0rY2SCRQsZyH"
      },
      "execution_count": 25,
      "outputs": []
    },
    {
      "cell_type": "code",
      "source": [
        "cov_mat.head()"
      ],
      "metadata": {
        "colab": {
          "base_uri": "https://localhost:8080/",
          "height": 206
        },
        "id": "F3nm0-Q6QDfG",
        "outputId": "b830fe59-50fa-4af0-c7b6-c7d34466f938"
      },
      "execution_count": 27,
      "outputs": [
        {
          "output_type": "execute_result",
          "data": {
            "text/plain": [
              "            ADANIPOWER    GODREJ       TCS  TATAPOWER  TATACHEM\n",
              "ADANIPOWER    0.358100  0.042288  0.041043   0.102027  0.087382\n",
              "GODREJ        0.042288  0.120409  0.027805   0.035582  0.038547\n",
              "TCS           0.041043  0.027805  0.075671   0.031828  0.029019\n",
              "TATAPOWER     0.102027  0.035582  0.031828   0.198000  0.083141\n",
              "TATACHEM      0.087382  0.038547  0.029019   0.083141  0.255425"
            ],
            "text/html": [
              "\n",
              "  <div id=\"df-653b6c7c-9c8c-4192-a03e-a8a0a788b40a\">\n",
              "    <div class=\"colab-df-container\">\n",
              "      <div>\n",
              "<style scoped>\n",
              "    .dataframe tbody tr th:only-of-type {\n",
              "        vertical-align: middle;\n",
              "    }\n",
              "\n",
              "    .dataframe tbody tr th {\n",
              "        vertical-align: top;\n",
              "    }\n",
              "\n",
              "    .dataframe thead th {\n",
              "        text-align: right;\n",
              "    }\n",
              "</style>\n",
              "<table border=\"1\" class=\"dataframe\">\n",
              "  <thead>\n",
              "    <tr style=\"text-align: right;\">\n",
              "      <th></th>\n",
              "      <th>ADANIPOWER</th>\n",
              "      <th>GODREJ</th>\n",
              "      <th>TCS</th>\n",
              "      <th>TATAPOWER</th>\n",
              "      <th>TATACHEM</th>\n",
              "    </tr>\n",
              "  </thead>\n",
              "  <tbody>\n",
              "    <tr>\n",
              "      <th>ADANIPOWER</th>\n",
              "      <td>0.358100</td>\n",
              "      <td>0.042288</td>\n",
              "      <td>0.041043</td>\n",
              "      <td>0.102027</td>\n",
              "      <td>0.087382</td>\n",
              "    </tr>\n",
              "    <tr>\n",
              "      <th>GODREJ</th>\n",
              "      <td>0.042288</td>\n",
              "      <td>0.120409</td>\n",
              "      <td>0.027805</td>\n",
              "      <td>0.035582</td>\n",
              "      <td>0.038547</td>\n",
              "    </tr>\n",
              "    <tr>\n",
              "      <th>TCS</th>\n",
              "      <td>0.041043</td>\n",
              "      <td>0.027805</td>\n",
              "      <td>0.075671</td>\n",
              "      <td>0.031828</td>\n",
              "      <td>0.029019</td>\n",
              "    </tr>\n",
              "    <tr>\n",
              "      <th>TATAPOWER</th>\n",
              "      <td>0.102027</td>\n",
              "      <td>0.035582</td>\n",
              "      <td>0.031828</td>\n",
              "      <td>0.198000</td>\n",
              "      <td>0.083141</td>\n",
              "    </tr>\n",
              "    <tr>\n",
              "      <th>TATACHEM</th>\n",
              "      <td>0.087382</td>\n",
              "      <td>0.038547</td>\n",
              "      <td>0.029019</td>\n",
              "      <td>0.083141</td>\n",
              "      <td>0.255425</td>\n",
              "    </tr>\n",
              "  </tbody>\n",
              "</table>\n",
              "</div>\n",
              "      <button class=\"colab-df-convert\" onclick=\"convertToInteractive('df-653b6c7c-9c8c-4192-a03e-a8a0a788b40a')\"\n",
              "              title=\"Convert this dataframe to an interactive table.\"\n",
              "              style=\"display:none;\">\n",
              "        \n",
              "  <svg xmlns=\"http://www.w3.org/2000/svg\" height=\"24px\"viewBox=\"0 0 24 24\"\n",
              "       width=\"24px\">\n",
              "    <path d=\"M0 0h24v24H0V0z\" fill=\"none\"/>\n",
              "    <path d=\"M18.56 5.44l.94 2.06.94-2.06 2.06-.94-2.06-.94-.94-2.06-.94 2.06-2.06.94zm-11 1L8.5 8.5l.94-2.06 2.06-.94-2.06-.94L8.5 2.5l-.94 2.06-2.06.94zm10 10l.94 2.06.94-2.06 2.06-.94-2.06-.94-.94-2.06-.94 2.06-2.06.94z\"/><path d=\"M17.41 7.96l-1.37-1.37c-.4-.4-.92-.59-1.43-.59-.52 0-1.04.2-1.43.59L10.3 9.45l-7.72 7.72c-.78.78-.78 2.05 0 2.83L4 21.41c.39.39.9.59 1.41.59.51 0 1.02-.2 1.41-.59l7.78-7.78 2.81-2.81c.8-.78.8-2.07 0-2.86zM5.41 20L4 18.59l7.72-7.72 1.47 1.35L5.41 20z\"/>\n",
              "  </svg>\n",
              "      </button>\n",
              "      \n",
              "  <style>\n",
              "    .colab-df-container {\n",
              "      display:flex;\n",
              "      flex-wrap:wrap;\n",
              "      gap: 12px;\n",
              "    }\n",
              "\n",
              "    .colab-df-convert {\n",
              "      background-color: #E8F0FE;\n",
              "      border: none;\n",
              "      border-radius: 50%;\n",
              "      cursor: pointer;\n",
              "      display: none;\n",
              "      fill: #1967D2;\n",
              "      height: 32px;\n",
              "      padding: 0 0 0 0;\n",
              "      width: 32px;\n",
              "    }\n",
              "\n",
              "    .colab-df-convert:hover {\n",
              "      background-color: #E2EBFA;\n",
              "      box-shadow: 0px 1px 2px rgba(60, 64, 67, 0.3), 0px 1px 3px 1px rgba(60, 64, 67, 0.15);\n",
              "      fill: #174EA6;\n",
              "    }\n",
              "\n",
              "    [theme=dark] .colab-df-convert {\n",
              "      background-color: #3B4455;\n",
              "      fill: #D2E3FC;\n",
              "    }\n",
              "\n",
              "    [theme=dark] .colab-df-convert:hover {\n",
              "      background-color: #434B5C;\n",
              "      box-shadow: 0px 1px 3px 1px rgba(0, 0, 0, 0.15);\n",
              "      filter: drop-shadow(0px 1px 2px rgba(0, 0, 0, 0.3));\n",
              "      fill: #FFFFFF;\n",
              "    }\n",
              "  </style>\n",
              "\n",
              "      <script>\n",
              "        const buttonEl =\n",
              "          document.querySelector('#df-653b6c7c-9c8c-4192-a03e-a8a0a788b40a button.colab-df-convert');\n",
              "        buttonEl.style.display =\n",
              "          google.colab.kernel.accessAllowed ? 'block' : 'none';\n",
              "\n",
              "        async function convertToInteractive(key) {\n",
              "          const element = document.querySelector('#df-653b6c7c-9c8c-4192-a03e-a8a0a788b40a');\n",
              "          const dataTable =\n",
              "            await google.colab.kernel.invokeFunction('convertToInteractive',\n",
              "                                                     [key], {});\n",
              "          if (!dataTable) return;\n",
              "\n",
              "          const docLinkHtml = 'Like what you see? Visit the ' +\n",
              "            '<a target=\"_blank\" href=https://colab.research.google.com/notebooks/data_table.ipynb>data table notebook</a>'\n",
              "            + ' to learn more about interactive tables.';\n",
              "          element.innerHTML = '';\n",
              "          dataTable['output_type'] = 'display_data';\n",
              "          await google.colab.output.renderOutput(dataTable, element);\n",
              "          const docLink = document.createElement('div');\n",
              "          docLink.innerHTML = docLinkHtml;\n",
              "          element.appendChild(docLink);\n",
              "        }\n",
              "      </script>\n",
              "    </div>\n",
              "  </div>\n",
              "  "
            ]
          },
          "metadata": {},
          "execution_count": 27
        }
      ]
    },
    {
      "cell_type": "markdown",
      "source": [
        "**Diagonal Elements are variance of each asset in our portfolio**"
      ],
      "metadata": {
        "id": "guwBHSu2QZW4"
      }
    },
    {
      "cell_type": "code",
      "source": [
        "p_v=np.dot(np.dot(np.transpose(weights),cov_mat),weights)"
      ],
      "metadata": {
        "id": "3uwsnl5_QXcu"
      },
      "execution_count": 33,
      "outputs": []
    },
    {
      "cell_type": "code",
      "source": [
        "p_vol=np.sqrt(p_v)"
      ],
      "metadata": {
        "id": "hevmIJ9JQoGq"
      },
      "execution_count": 34,
      "outputs": []
    },
    {
      "cell_type": "code",
      "source": [
        "print(\"Variance of Portfolio\",p_v)"
      ],
      "metadata": {
        "colab": {
          "base_uri": "https://localhost:8080/"
        },
        "id": "px7xOfQRQxKv",
        "outputId": "89f1fe18-701c-4d1e-dc1b-9fe7a7025b9e"
      },
      "execution_count": 38,
      "outputs": [
        {
          "output_type": "stream",
          "name": "stdout",
          "text": [
            "Variance of Portfolio 0.08640948175680124\n"
          ]
        }
      ]
    },
    {
      "cell_type": "code",
      "source": [
        "print(\"Volatility of Portfolio(Risk)\",p_vol)"
      ],
      "metadata": {
        "colab": {
          "base_uri": "https://localhost:8080/"
        },
        "id": "xq1pNMeOQ1q_",
        "outputId": "24feb393-fc4b-4f8a-f0e9-febb7e1f884f"
      },
      "execution_count": 39,
      "outputs": [
        {
          "output_type": "stream",
          "name": "stdout",
          "text": [
            "Volatility of Portfolio(Risk) 0.29395489748735476\n"
          ]
        }
      ]
    },
    {
      "cell_type": "markdown",
      "source": [
        "# Modern Portfolio Theory"
      ],
      "metadata": {
        "id": "Pieg8qxsX_BN"
      }
    },
    {
      "cell_type": "code",
      "source": [
        "p_r=[]\n",
        "p_v=[]\n",
        "p_w=[]\n",
        "\n",
        "assets=len(maindf.columns)\n",
        "nos=10000\n",
        "\n",
        "individual_rets=maindf.resample('Y').last().pct_change().mean()"
      ],
      "metadata": {
        "id": "P54E_pSKkAm9"
      },
      "execution_count": 81,
      "outputs": []
    },
    {
      "cell_type": "code",
      "source": [
        "for port in range(nos) :\n",
        "  # Randomly generate weigh combination\n",
        "  weights = np.random. random(assets)\n",
        "  # Normalize weight so that they sum to 1\n",
        "  weights = weights/np.sum(weights)\n",
        "  p_w.append(weights)\n",
        "  # Returns are the dot product of individual expected returns of asset and its weights\n",
        "  returns = np.dot(weights, individual_rets)\n",
        "  p_r.append(returns)\n",
        "  volatility = np.sqrt(np.dot(weights.T, np.dot(cov_mat, weights)))\n",
        "  p_v .append(volatility)"
      ],
      "metadata": {
        "id": "Kb3MpjYdicrd"
      },
      "execution_count": 82,
      "outputs": []
    },
    {
      "cell_type": "code",
      "source": [
        "portfolio = {'Returns': p_r,\n",
        "             'Volatility': p_v}"
      ],
      "metadata": {
        "id": "ATR1HetFlQse"
      },
      "execution_count": 83,
      "outputs": []
    },
    {
      "cell_type": "code",
      "source": [
        "for counter,symbol in enumerate(maindf.columns.tolist()):\n",
        "    portfolio[symbol+' weight'] = [weight[counter] for weight in p_w]"
      ],
      "metadata": {
        "id": "zxwmof5alVm-"
      },
      "execution_count": 84,
      "outputs": []
    },
    {
      "cell_type": "code",
      "source": [
        "df = pd.DataFrame(portfolio)"
      ],
      "metadata": {
        "id": "xlEKCrdKlnlO"
      },
      "execution_count": 85,
      "outputs": []
    },
    {
      "cell_type": "code",
      "source": [
        "df.head()"
      ],
      "metadata": {
        "colab": {
          "base_uri": "https://localhost:8080/",
          "height": 206
        },
        "id": "uLlzixRNlqQe",
        "outputId": "5aa68795-e1a5-49bf-b17f-8436f4e5dd98"
      },
      "execution_count": 86,
      "outputs": [
        {
          "output_type": "execute_result",
          "data": {
            "text/plain": [
              "    Returns  Volatility  ADANIPOWER weight  GODREJ weight  TCS weight  \\\n",
              "0  0.649370    0.024657           0.377470       0.021553    0.040736   \n",
              "1  0.450890    0.022415           0.078378       0.080428    0.085597   \n",
              "2  0.427443    0.016330           0.183562       0.256779    0.360163   \n",
              "3  0.549119    0.020328           0.255685       0.282470    0.000337   \n",
              "4  0.590635    0.019519           0.210640       0.138593    0.148140   \n",
              "\n",
              "   TATAPOWER weight  TATACHEM weight  \n",
              "0          0.135523         0.424718  \n",
              "1          0.220969         0.534627  \n",
              "2          0.183597         0.015899  \n",
              "3          0.231909         0.229599  \n",
              "4          0.364008         0.138619  "
            ],
            "text/html": [
              "\n",
              "  <div id=\"df-630ec861-86b0-45ab-a9b0-6b8f3831d7ee\">\n",
              "    <div class=\"colab-df-container\">\n",
              "      <div>\n",
              "<style scoped>\n",
              "    .dataframe tbody tr th:only-of-type {\n",
              "        vertical-align: middle;\n",
              "    }\n",
              "\n",
              "    .dataframe tbody tr th {\n",
              "        vertical-align: top;\n",
              "    }\n",
              "\n",
              "    .dataframe thead th {\n",
              "        text-align: right;\n",
              "    }\n",
              "</style>\n",
              "<table border=\"1\" class=\"dataframe\">\n",
              "  <thead>\n",
              "    <tr style=\"text-align: right;\">\n",
              "      <th></th>\n",
              "      <th>Returns</th>\n",
              "      <th>Volatility</th>\n",
              "      <th>ADANIPOWER weight</th>\n",
              "      <th>GODREJ weight</th>\n",
              "      <th>TCS weight</th>\n",
              "      <th>TATAPOWER weight</th>\n",
              "      <th>TATACHEM weight</th>\n",
              "    </tr>\n",
              "  </thead>\n",
              "  <tbody>\n",
              "    <tr>\n",
              "      <th>0</th>\n",
              "      <td>0.649370</td>\n",
              "      <td>0.024657</td>\n",
              "      <td>0.377470</td>\n",
              "      <td>0.021553</td>\n",
              "      <td>0.040736</td>\n",
              "      <td>0.135523</td>\n",
              "      <td>0.424718</td>\n",
              "    </tr>\n",
              "    <tr>\n",
              "      <th>1</th>\n",
              "      <td>0.450890</td>\n",
              "      <td>0.022415</td>\n",
              "      <td>0.078378</td>\n",
              "      <td>0.080428</td>\n",
              "      <td>0.085597</td>\n",
              "      <td>0.220969</td>\n",
              "      <td>0.534627</td>\n",
              "    </tr>\n",
              "    <tr>\n",
              "      <th>2</th>\n",
              "      <td>0.427443</td>\n",
              "      <td>0.016330</td>\n",
              "      <td>0.183562</td>\n",
              "      <td>0.256779</td>\n",
              "      <td>0.360163</td>\n",
              "      <td>0.183597</td>\n",
              "      <td>0.015899</td>\n",
              "    </tr>\n",
              "    <tr>\n",
              "      <th>3</th>\n",
              "      <td>0.549119</td>\n",
              "      <td>0.020328</td>\n",
              "      <td>0.255685</td>\n",
              "      <td>0.282470</td>\n",
              "      <td>0.000337</td>\n",
              "      <td>0.231909</td>\n",
              "      <td>0.229599</td>\n",
              "    </tr>\n",
              "    <tr>\n",
              "      <th>4</th>\n",
              "      <td>0.590635</td>\n",
              "      <td>0.019519</td>\n",
              "      <td>0.210640</td>\n",
              "      <td>0.138593</td>\n",
              "      <td>0.148140</td>\n",
              "      <td>0.364008</td>\n",
              "      <td>0.138619</td>\n",
              "    </tr>\n",
              "  </tbody>\n",
              "</table>\n",
              "</div>\n",
              "      <button class=\"colab-df-convert\" onclick=\"convertToInteractive('df-630ec861-86b0-45ab-a9b0-6b8f3831d7ee')\"\n",
              "              title=\"Convert this dataframe to an interactive table.\"\n",
              "              style=\"display:none;\">\n",
              "        \n",
              "  <svg xmlns=\"http://www.w3.org/2000/svg\" height=\"24px\"viewBox=\"0 0 24 24\"\n",
              "       width=\"24px\">\n",
              "    <path d=\"M0 0h24v24H0V0z\" fill=\"none\"/>\n",
              "    <path d=\"M18.56 5.44l.94 2.06.94-2.06 2.06-.94-2.06-.94-.94-2.06-.94 2.06-2.06.94zm-11 1L8.5 8.5l.94-2.06 2.06-.94-2.06-.94L8.5 2.5l-.94 2.06-2.06.94zm10 10l.94 2.06.94-2.06 2.06-.94-2.06-.94-.94-2.06-.94 2.06-2.06.94z\"/><path d=\"M17.41 7.96l-1.37-1.37c-.4-.4-.92-.59-1.43-.59-.52 0-1.04.2-1.43.59L10.3 9.45l-7.72 7.72c-.78.78-.78 2.05 0 2.83L4 21.41c.39.39.9.59 1.41.59.51 0 1.02-.2 1.41-.59l7.78-7.78 2.81-2.81c.8-.78.8-2.07 0-2.86zM5.41 20L4 18.59l7.72-7.72 1.47 1.35L5.41 20z\"/>\n",
              "  </svg>\n",
              "      </button>\n",
              "      \n",
              "  <style>\n",
              "    .colab-df-container {\n",
              "      display:flex;\n",
              "      flex-wrap:wrap;\n",
              "      gap: 12px;\n",
              "    }\n",
              "\n",
              "    .colab-df-convert {\n",
              "      background-color: #E8F0FE;\n",
              "      border: none;\n",
              "      border-radius: 50%;\n",
              "      cursor: pointer;\n",
              "      display: none;\n",
              "      fill: #1967D2;\n",
              "      height: 32px;\n",
              "      padding: 0 0 0 0;\n",
              "      width: 32px;\n",
              "    }\n",
              "\n",
              "    .colab-df-convert:hover {\n",
              "      background-color: #E2EBFA;\n",
              "      box-shadow: 0px 1px 2px rgba(60, 64, 67, 0.3), 0px 1px 3px 1px rgba(60, 64, 67, 0.15);\n",
              "      fill: #174EA6;\n",
              "    }\n",
              "\n",
              "    [theme=dark] .colab-df-convert {\n",
              "      background-color: #3B4455;\n",
              "      fill: #D2E3FC;\n",
              "    }\n",
              "\n",
              "    [theme=dark] .colab-df-convert:hover {\n",
              "      background-color: #434B5C;\n",
              "      box-shadow: 0px 1px 3px 1px rgba(0, 0, 0, 0.15);\n",
              "      filter: drop-shadow(0px 1px 2px rgba(0, 0, 0, 0.3));\n",
              "      fill: #FFFFFF;\n",
              "    }\n",
              "  </style>\n",
              "\n",
              "      <script>\n",
              "        const buttonEl =\n",
              "          document.querySelector('#df-630ec861-86b0-45ab-a9b0-6b8f3831d7ee button.colab-df-convert');\n",
              "        buttonEl.style.display =\n",
              "          google.colab.kernel.accessAllowed ? 'block' : 'none';\n",
              "\n",
              "        async function convertToInteractive(key) {\n",
              "          const element = document.querySelector('#df-630ec861-86b0-45ab-a9b0-6b8f3831d7ee');\n",
              "          const dataTable =\n",
              "            await google.colab.kernel.invokeFunction('convertToInteractive',\n",
              "                                                     [key], {});\n",
              "          if (!dataTable) return;\n",
              "\n",
              "          const docLinkHtml = 'Like what you see? Visit the ' +\n",
              "            '<a target=\"_blank\" href=https://colab.research.google.com/notebooks/data_table.ipynb>data table notebook</a>'\n",
              "            + ' to learn more about interactive tables.';\n",
              "          element.innerHTML = '';\n",
              "          dataTable['output_type'] = 'display_data';\n",
              "          await google.colab.output.renderOutput(dataTable, element);\n",
              "          const docLink = document.createElement('div');\n",
              "          docLink.innerHTML = docLinkHtml;\n",
              "          element.appendChild(docLink);\n",
              "        }\n",
              "      </script>\n",
              "    </div>\n",
              "  </div>\n",
              "  "
            ]
          },
          "metadata": {},
          "execution_count": 86
        }
      ]
    },
    {
      "cell_type": "code",
      "source": [
        "column_order = ['Returns', 'Volatility'] + [stock+' weight' for stock in maindf.columns.tolist()]"
      ],
      "metadata": {
        "id": "vmB6vU9XlrcO"
      },
      "execution_count": 88,
      "outputs": []
    },
    {
      "cell_type": "code",
      "source": [
        "df = df[column_order]"
      ],
      "metadata": {
        "id": "nywhTYoTlyL_"
      },
      "execution_count": 89,
      "outputs": []
    },
    {
      "cell_type": "code",
      "source": [
        "df.head()"
      ],
      "metadata": {
        "colab": {
          "base_uri": "https://localhost:8080/",
          "height": 206
        },
        "id": "6t1vhDEcl2wm",
        "outputId": "c2db26a4-ac19-416c-9c66-e95f289c17be"
      },
      "execution_count": 90,
      "outputs": [
        {
          "output_type": "execute_result",
          "data": {
            "text/plain": [
              "    Returns  Volatility  ADANIPOWER weight  GODREJ weight  TCS weight  \\\n",
              "0  0.649370    0.024657           0.377470       0.021553    0.040736   \n",
              "1  0.450890    0.022415           0.078378       0.080428    0.085597   \n",
              "2  0.427443    0.016330           0.183562       0.256779    0.360163   \n",
              "3  0.549119    0.020328           0.255685       0.282470    0.000337   \n",
              "4  0.590635    0.019519           0.210640       0.138593    0.148140   \n",
              "\n",
              "   TATAPOWER weight  TATACHEM weight  \n",
              "0          0.135523         0.424718  \n",
              "1          0.220969         0.534627  \n",
              "2          0.183597         0.015899  \n",
              "3          0.231909         0.229599  \n",
              "4          0.364008         0.138619  "
            ],
            "text/html": [
              "\n",
              "  <div id=\"df-f2fa5156-588f-40ef-91bb-4028c6a26196\">\n",
              "    <div class=\"colab-df-container\">\n",
              "      <div>\n",
              "<style scoped>\n",
              "    .dataframe tbody tr th:only-of-type {\n",
              "        vertical-align: middle;\n",
              "    }\n",
              "\n",
              "    .dataframe tbody tr th {\n",
              "        vertical-align: top;\n",
              "    }\n",
              "\n",
              "    .dataframe thead th {\n",
              "        text-align: right;\n",
              "    }\n",
              "</style>\n",
              "<table border=\"1\" class=\"dataframe\">\n",
              "  <thead>\n",
              "    <tr style=\"text-align: right;\">\n",
              "      <th></th>\n",
              "      <th>Returns</th>\n",
              "      <th>Volatility</th>\n",
              "      <th>ADANIPOWER weight</th>\n",
              "      <th>GODREJ weight</th>\n",
              "      <th>TCS weight</th>\n",
              "      <th>TATAPOWER weight</th>\n",
              "      <th>TATACHEM weight</th>\n",
              "    </tr>\n",
              "  </thead>\n",
              "  <tbody>\n",
              "    <tr>\n",
              "      <th>0</th>\n",
              "      <td>0.649370</td>\n",
              "      <td>0.024657</td>\n",
              "      <td>0.377470</td>\n",
              "      <td>0.021553</td>\n",
              "      <td>0.040736</td>\n",
              "      <td>0.135523</td>\n",
              "      <td>0.424718</td>\n",
              "    </tr>\n",
              "    <tr>\n",
              "      <th>1</th>\n",
              "      <td>0.450890</td>\n",
              "      <td>0.022415</td>\n",
              "      <td>0.078378</td>\n",
              "      <td>0.080428</td>\n",
              "      <td>0.085597</td>\n",
              "      <td>0.220969</td>\n",
              "      <td>0.534627</td>\n",
              "    </tr>\n",
              "    <tr>\n",
              "      <th>2</th>\n",
              "      <td>0.427443</td>\n",
              "      <td>0.016330</td>\n",
              "      <td>0.183562</td>\n",
              "      <td>0.256779</td>\n",
              "      <td>0.360163</td>\n",
              "      <td>0.183597</td>\n",
              "      <td>0.015899</td>\n",
              "    </tr>\n",
              "    <tr>\n",
              "      <th>3</th>\n",
              "      <td>0.549119</td>\n",
              "      <td>0.020328</td>\n",
              "      <td>0.255685</td>\n",
              "      <td>0.282470</td>\n",
              "      <td>0.000337</td>\n",
              "      <td>0.231909</td>\n",
              "      <td>0.229599</td>\n",
              "    </tr>\n",
              "    <tr>\n",
              "      <th>4</th>\n",
              "      <td>0.590635</td>\n",
              "      <td>0.019519</td>\n",
              "      <td>0.210640</td>\n",
              "      <td>0.138593</td>\n",
              "      <td>0.148140</td>\n",
              "      <td>0.364008</td>\n",
              "      <td>0.138619</td>\n",
              "    </tr>\n",
              "  </tbody>\n",
              "</table>\n",
              "</div>\n",
              "      <button class=\"colab-df-convert\" onclick=\"convertToInteractive('df-f2fa5156-588f-40ef-91bb-4028c6a26196')\"\n",
              "              title=\"Convert this dataframe to an interactive table.\"\n",
              "              style=\"display:none;\">\n",
              "        \n",
              "  <svg xmlns=\"http://www.w3.org/2000/svg\" height=\"24px\"viewBox=\"0 0 24 24\"\n",
              "       width=\"24px\">\n",
              "    <path d=\"M0 0h24v24H0V0z\" fill=\"none\"/>\n",
              "    <path d=\"M18.56 5.44l.94 2.06.94-2.06 2.06-.94-2.06-.94-.94-2.06-.94 2.06-2.06.94zm-11 1L8.5 8.5l.94-2.06 2.06-.94-2.06-.94L8.5 2.5l-.94 2.06-2.06.94zm10 10l.94 2.06.94-2.06 2.06-.94-2.06-.94-.94-2.06-.94 2.06-2.06.94z\"/><path d=\"M17.41 7.96l-1.37-1.37c-.4-.4-.92-.59-1.43-.59-.52 0-1.04.2-1.43.59L10.3 9.45l-7.72 7.72c-.78.78-.78 2.05 0 2.83L4 21.41c.39.39.9.59 1.41.59.51 0 1.02-.2 1.41-.59l7.78-7.78 2.81-2.81c.8-.78.8-2.07 0-2.86zM5.41 20L4 18.59l7.72-7.72 1.47 1.35L5.41 20z\"/>\n",
              "  </svg>\n",
              "      </button>\n",
              "      \n",
              "  <style>\n",
              "    .colab-df-container {\n",
              "      display:flex;\n",
              "      flex-wrap:wrap;\n",
              "      gap: 12px;\n",
              "    }\n",
              "\n",
              "    .colab-df-convert {\n",
              "      background-color: #E8F0FE;\n",
              "      border: none;\n",
              "      border-radius: 50%;\n",
              "      cursor: pointer;\n",
              "      display: none;\n",
              "      fill: #1967D2;\n",
              "      height: 32px;\n",
              "      padding: 0 0 0 0;\n",
              "      width: 32px;\n",
              "    }\n",
              "\n",
              "    .colab-df-convert:hover {\n",
              "      background-color: #E2EBFA;\n",
              "      box-shadow: 0px 1px 2px rgba(60, 64, 67, 0.3), 0px 1px 3px 1px rgba(60, 64, 67, 0.15);\n",
              "      fill: #174EA6;\n",
              "    }\n",
              "\n",
              "    [theme=dark] .colab-df-convert {\n",
              "      background-color: #3B4455;\n",
              "      fill: #D2E3FC;\n",
              "    }\n",
              "\n",
              "    [theme=dark] .colab-df-convert:hover {\n",
              "      background-color: #434B5C;\n",
              "      box-shadow: 0px 1px 3px 1px rgba(0, 0, 0, 0.15);\n",
              "      filter: drop-shadow(0px 1px 2px rgba(0, 0, 0, 0.3));\n",
              "      fill: #FFFFFF;\n",
              "    }\n",
              "  </style>\n",
              "\n",
              "      <script>\n",
              "        const buttonEl =\n",
              "          document.querySelector('#df-f2fa5156-588f-40ef-91bb-4028c6a26196 button.colab-df-convert');\n",
              "        buttonEl.style.display =\n",
              "          google.colab.kernel.accessAllowed ? 'block' : 'none';\n",
              "\n",
              "        async function convertToInteractive(key) {\n",
              "          const element = document.querySelector('#df-f2fa5156-588f-40ef-91bb-4028c6a26196');\n",
              "          const dataTable =\n",
              "            await google.colab.kernel.invokeFunction('convertToInteractive',\n",
              "                                                     [key], {});\n",
              "          if (!dataTable) return;\n",
              "\n",
              "          const docLinkHtml = 'Like what you see? Visit the ' +\n",
              "            '<a target=\"_blank\" href=https://colab.research.google.com/notebooks/data_table.ipynb>data table notebook</a>'\n",
              "            + ' to learn more about interactive tables.';\n",
              "          element.innerHTML = '';\n",
              "          dataTable['output_type'] = 'display_data';\n",
              "          await google.colab.output.renderOutput(dataTable, element);\n",
              "          const docLink = document.createElement('div');\n",
              "          docLink.innerHTML = docLinkHtml;\n",
              "          element.appendChild(docLink);\n",
              "        }\n",
              "      </script>\n",
              "    </div>\n",
              "  </div>\n",
              "  "
            ]
          },
          "metadata": {},
          "execution_count": 90
        }
      ]
    },
    {
      "cell_type": "code",
      "source": [
        "df.plot.scatter(x='Volatility',y='Returns',marker='o',color='r',s=15,alpha=0.5,grid=True,figsize=[20,8])"
      ],
      "metadata": {
        "colab": {
          "base_uri": "https://localhost:8080/",
          "height": 514
        },
        "id": "Dte_-wztl5me",
        "outputId": "8d10fb9d-8af5-4570-e0f6-8b3d546a2bb1"
      },
      "execution_count": 92,
      "outputs": [
        {
          "output_type": "execute_result",
          "data": {
            "text/plain": [
              "<matplotlib.axes._subplots.AxesSubplot at 0x7f57a48ba410>"
            ]
          },
          "metadata": {},
          "execution_count": 92
        },
        {
          "output_type": "display_data",
          "data": {
            "text/plain": [
              "<Figure size 1440x576 with 1 Axes>"
            ],
            "image/png": "[encoded data removed]"
          },
          "metadata": {
            "needs_background": "light"
          }
        }
      ]
    },
    {
      "cell_type": "markdown",
      "source": [
        "# Optimizing the Portfolios\n",
        "\n",
        "1. Find Minimum Volatility\n",
        "2. Highest Sharpe Ratio\n",
        "3. Find Portfolio with Highest Sortino Ratio \n",
        "4. Max Drawdowns\n",
        "5. Calmar Ratio"
      ],
      "metadata": {
        "id": "1-tQuVbeoBoa"
      }
    },
    {
      "cell_type": "code",
      "source": [
        "min_vol=df.iloc[df['Volatility'].idxmin()]\n",
        "min_vol"
      ],
      "metadata": {
        "colab": {
          "base_uri": "https://localhost:8080/"
        },
        "id": "W8DmDnNTmOf9",
        "outputId": "d6d0f2f4-018a-49a9-d467-b47eea2d1f3d"
      },
      "execution_count": 95,
      "outputs": [
        {
          "output_type": "execute_result",
          "data": {
            "text/plain": [
              "Returns              0.244716\n",
              "Volatility           0.014790\n",
              "ADANIPOWER weight    0.004829\n",
              "GODREJ weight        0.312414\n",
              "TCS weight           0.501128\n",
              "TATAPOWER weight     0.143530\n",
              "TATACHEM weight      0.038099\n",
              "Name: 5050, dtype: float64"
            ]
          },
          "metadata": {},
          "execution_count": 95
        }
      ]
    },
    {
      "cell_type": "code",
      "source": [
        "risk_factor=0.01\n",
        "\n",
        "optimal_risk_p=df.iloc[((df['Returns']-risk_factor)/df['Volatility']).idxmax()]"
      ],
      "metadata": {
        "id": "Iz9_kPXAoY1P"
      },
      "execution_count": 97,
      "outputs": []
    },
    {
      "cell_type": "code",
      "source": [
        "optimal_risk_p"
      ],
      "metadata": {
        "colab": {
          "base_uri": "https://localhost:8080/"
        },
        "id": "9ji0xJboqsI-",
        "outputId": "5594bbb3-e650-4b7b-eff3-72fae31e441b"
      },
      "execution_count": 98,
      "outputs": [
        {
          "output_type": "execute_result",
          "data": {
            "text/plain": [
              "Returns              0.835809\n",
              "Volatility           0.025193\n",
              "ADANIPOWER weight    0.451533\n",
              "GODREJ weight        0.047613\n",
              "TCS weight           0.058806\n",
              "TATAPOWER weight     0.439153\n",
              "TATACHEM weight      0.002895\n",
              "Name: 9886, dtype: float64"
            ]
          },
          "metadata": {},
          "execution_count": 98
        }
      ]
    },
    {
      "cell_type": "code",
      "source": [
        "ret"
      ],
      "metadata": {
        "colab": {
          "base_uri": "https://localhost:8080/",
          "height": 455
        },
        "id": "-tTgei7LqwCG",
        "outputId": "ff155202-2252-48d6-80f5-c059a3cbbf0e"
      },
      "execution_count": 99,
      "outputs": [
        {
          "output_type": "execute_result",
          "data": {
            "text/plain": [
              "                           ADANIPOWER    GODREJ       TCS  TATAPOWER  TATACHEM\n",
              "Date                                                                          \n",
              "2019-10-31 00:00:00+05:30         NaN       NaN       NaN        NaN       NaN\n",
              "2019-11-01 00:00:00+05:30    0.028009 -0.003107 -0.030291   0.003373  0.012684\n",
              "2019-11-04 00:00:00+05:30    0.054492 -0.023101 -0.003157   0.003361  0.001733\n",
              "2019-11-05 00:00:00+05:30   -0.023743  0.000694  0.003601  -0.016750  0.001573\n",
              "2019-11-06 00:00:00+05:30    0.017167  0.027789 -0.006063   0.003407  0.010521\n",
              "...                               ...       ...       ...        ...       ...\n",
              "2022-10-21 00:00:00+05:30   -0.018467 -0.009719 -0.006303  -0.009964 -0.012650\n",
              "2022-10-24 00:00:00+05:30    0.010084  0.000061  0.007745   0.001830  0.011587\n",
              "2022-10-25 00:00:00+05:30   -0.009537  0.000853  0.000127   0.007534  0.020661\n",
              "2022-10-27 00:00:00+05:30    0.015195  0.017783 -0.001486   0.023567  0.006352\n",
              "2022-10-28 00:00:00+05:30   -0.012152 -0.006881  0.001853  -0.003542 -0.047300\n",
              "\n",
              "[745 rows x 5 columns]"
            ],
            "text/html": [
              "\n",
              "  <div id=\"df-90b40f62-9fa3-43de-a0dc-1da9544b4eea\">\n",
              "    <div class=\"colab-df-container\">\n",
              "      <div>\n",
              "<style scoped>\n",
              "    .dataframe tbody tr th:only-of-type {\n",
              "        vertical-align: middle;\n",
              "    }\n",
              "\n",
              "    .dataframe tbody tr th {\n",
              "        vertical-align: top;\n",
              "    }\n",
              "\n",
              "    .dataframe thead th {\n",
              "        text-align: right;\n",
              "    }\n",
              "</style>\n",
              "<table border=\"1\" class=\"dataframe\">\n",
              "  <thead>\n",
              "    <tr style=\"text-align: right;\">\n",
              "      <th></th>\n",
              "      <th>ADANIPOWER</th>\n",
              "      <th>GODREJ</th>\n",
              "      <th>TCS</th>\n",
              "      <th>TATAPOWER</th>\n",
              "      <th>TATACHEM</th>\n",
              "    </tr>\n",
              "    <tr>\n",
              "      <th>Date</th>\n",
              "      <th></th>\n",
              "      <th></th>\n",
              "      <th></th>\n",
              "      <th></th>\n",
              "      <th></th>\n",
              "    </tr>\n",
              "  </thead>\n",
              "  <tbody>\n",
              "    <tr>\n",
              "      <th>2019-10-31 00:00:00+05:30</th>\n",
              "      <td>NaN</td>\n",
              "      <td>NaN</td>\n",
              "      <td>NaN</td>\n",
              "      <td>NaN</td>\n",
              "      <td>NaN</td>\n",
              "    </tr>\n",
              "    <tr>\n",
              "      <th>2019-11-01 00:00:00+05:30</th>\n",
              "      <td>0.028009</td>\n",
              "      <td>-0.003107</td>\n",
              "      <td>-0.030291</td>\n",
              "      <td>0.003373</td>\n",
              "      <td>0.012684</td>\n",
              "    </tr>\n",
              "    <tr>\n",
              "      <th>2019-11-04 00:00:00+05:30</th>\n",
              "      <td>0.054492</td>\n",
              "      <td>-0.023101</td>\n",
              "      <td>-0.003157</td>\n",
              "      <td>0.003361</td>\n",
              "      <td>0.001733</td>\n",
              "    </tr>\n",
              "    <tr>\n",
              "      <th>2019-11-05 00:00:00+05:30</th>\n",
              "      <td>-0.023743</td>\n",
              "      <td>0.000694</td>\n",
              "      <td>0.003601</td>\n",
              "      <td>-0.016750</td>\n",
              "      <td>0.001573</td>\n",
              "    </tr>\n",
              "    <tr>\n",
              "      <th>2019-11-06 00:00:00+05:30</th>\n",
              "      <td>0.017167</td>\n",
              "      <td>0.027789</td>\n",
              "      <td>-0.006063</td>\n",
              "      <td>0.003407</td>\n",
              "      <td>0.010521</td>\n",
              "    </tr>\n",
              "    <tr>\n",
              "      <th>...</th>\n",
              "      <td>...</td>\n",
              "      <td>...</td>\n",
              "      <td>...</td>\n",
              "      <td>...</td>\n",
              "      <td>...</td>\n",
              "    </tr>\n",
              "    <tr>\n",
              "      <th>2022-10-21 00:00:00+05:30</th>\n",
              "      <td>-0.018467</td>\n",
              "      <td>-0.009719</td>\n",
              "      <td>-0.006303</td>\n",
              "      <td>-0.009964</td>\n",
              "      <td>-0.012650</td>\n",
              "    </tr>\n",
              "    <tr>\n",
              "      <th>2022-10-24 00:00:00+05:30</th>\n",
              "      <td>0.010084</td>\n",
              "      <td>0.000061</td>\n",
              "      <td>0.007745</td>\n",
              "      <td>0.001830</td>\n",
              "      <td>0.011587</td>\n",
              "    </tr>\n",
              "    <tr>\n",
              "      <th>2022-10-25 00:00:00+05:30</th>\n",
              "      <td>-0.009537</td>\n",
              "      <td>0.000853</td>\n",
              "      <td>0.000127</td>\n",
              "      <td>0.007534</td>\n",
              "      <td>0.020661</td>\n",
              "    </tr>\n",
              "    <tr>\n",
              "      <th>2022-10-27 00:00:00+05:30</th>\n",
              "      <td>0.015195</td>\n",
              "      <td>0.017783</td>\n",
              "      <td>-0.001486</td>\n",
              "      <td>0.023567</td>\n",
              "      <td>0.006352</td>\n",
              "    </tr>\n",
              "    <tr>\n",
              "      <th>2022-10-28 00:00:00+05:30</th>\n",
              "      <td>-0.012152</td>\n",
              "      <td>-0.006881</td>\n",
              "      <td>0.001853</td>\n",
              "      <td>-0.003542</td>\n",
              "      <td>-0.047300</td>\n",
              "    </tr>\n",
              "  </tbody>\n",
              "</table>\n",
              "<p>745 rows × 5 columns</p>\n",
              "</div>\n",
              "      <button class=\"colab-df-convert\" onclick=\"convertToInteractive('df-90b40f62-9fa3-43de-a0dc-1da9544b4eea')\"\n",
              "              title=\"Convert this dataframe to an interactive table.\"\n",
              "              style=\"display:none;\">\n",
              "        \n",
              "  <svg xmlns=\"http://www.w3.org/2000/svg\" height=\"24px\"viewBox=\"0 0 24 24\"\n",
              "       width=\"24px\">\n",
              "    <path d=\"M0 0h24v24H0V0z\" fill=\"none\"/>\n",
              "    <path d=\"M18.56 5.44l.94 2.06.94-2.06 2.06-.94-2.06-.94-.94-2.06-.94 2.06-2.06.94zm-11 1L8.5 8.5l.94-2.06 2.06-.94-2.06-.94L8.5 2.5l-.94 2.06-2.06.94zm10 10l.94 2.06.94-2.06 2.06-.94-2.06-.94-.94-2.06-.94 2.06-2.06.94z\"/><path d=\"M17.41 7.96l-1.37-1.37c-.4-.4-.92-.59-1.43-.59-.52 0-1.04.2-1.43.59L10.3 9.45l-7.72 7.72c-.78.78-.78 2.05 0 2.83L4 21.41c.39.39.9.59 1.41.59.51 0 1.02-.2 1.41-.59l7.78-7.78 2.81-2.81c.8-.78.8-2.07 0-2.86zM5.41 20L4 18.59l7.72-7.72 1.47 1.35L5.41 20z\"/>\n",
              "  </svg>\n",
              "      </button>\n",
              "      \n",
              "  <style>\n",
              "    .colab-df-container {\n",
              "      display:flex;\n",
              "      flex-wrap:wrap;\n",
              "      gap: 12px;\n",
              "    }\n",
              "\n",
              "    .colab-df-convert {\n",
              "      background-color: #E8F0FE;\n",
              "      border: none;\n",
              "      border-radius: 50%;\n",
              "      cursor: pointer;\n",
              "      display: none;\n",
              "      fill: #1967D2;\n",
              "      height: 32px;\n",
              "      padding: 0 0 0 0;\n",
              "      width: 32px;\n",
              "    }\n",
              "\n",
              "    .colab-df-convert:hover {\n",
              "      background-color: #E2EBFA;\n",
              "      box-shadow: 0px 1px 2px rgba(60, 64, 67, 0.3), 0px 1px 3px 1px rgba(60, 64, 67, 0.15);\n",
              "      fill: #174EA6;\n",
              "    }\n",
              "\n",
              "    [theme=dark] .colab-df-convert {\n",
              "      background-color: #3B4455;\n",
              "      fill: #D2E3FC;\n",
              "    }\n",
              "\n",
              "    [theme=dark] .colab-df-convert:hover {\n",
              "      background-color: #434B5C;\n",
              "      box-shadow: 0px 1px 3px 1px rgba(0, 0, 0, 0.15);\n",
              "      filter: drop-shadow(0px 1px 2px rgba(0, 0, 0, 0.3));\n",
              "      fill: #FFFFFF;\n",
              "    }\n",
              "  </style>\n",
              "\n",
              "      <script>\n",
              "        const buttonEl =\n",
              "          document.querySelector('#df-90b40f62-9fa3-43de-a0dc-1da9544b4eea button.colab-df-convert');\n",
              "        buttonEl.style.display =\n",
              "          google.colab.kernel.accessAllowed ? 'block' : 'none';\n",
              "\n",
              "        async function convertToInteractive(key) {\n",
              "          const element = document.querySelector('#df-90b40f62-9fa3-43de-a0dc-1da9544b4eea');\n",
              "          const dataTable =\n",
              "            await google.colab.kernel.invokeFunction('convertToInteractive',\n",
              "                                                     [key], {});\n",
              "          if (!dataTable) return;\n",
              "\n",
              "          const docLinkHtml = 'Like what you see? Visit the ' +\n",
              "            '<a target=\"_blank\" href=https://colab.research.google.com/notebooks/data_table.ipynb>data table notebook</a>'\n",
              "            + ' to learn more about interactive tables.';\n",
              "          element.innerHTML = '';\n",
              "          dataTable['output_type'] = 'display_data';\n",
              "          await google.colab.output.renderOutput(dataTable, element);\n",
              "          const docLink = document.createElement('div');\n",
              "          docLink.innerHTML = docLinkHtml;\n",
              "          element.appendChild(docLink);\n",
              "        }\n",
              "      </script>\n",
              "    </div>\n",
              "  </div>\n",
              "  "
            ]
          },
          "metadata": {},
          "execution_count": 99
        }
      ]
    },
    {
      "cell_type": "code",
      "source": [
        "ret_df=ret"
      ],
      "metadata": {
        "id": "IuGBV669tGVX"
      },
      "execution_count": 100,
      "outputs": []
    },
    {
      "cell_type": "code",
      "source": [
        "ret_df['Port']=ret_df.mean(axis=1)"
      ],
      "metadata": {
        "colab": {
          "base_uri": "https://localhost:8080/",
          "height": 112
        },
        "id": "eLDqS5UptZ2v",
        "outputId": "1a9bf06b-5339-48dd-b50f-58673337e2c5"
      },
      "execution_count": 101,
      "outputs": [
        {
          "output_type": "execute_result",
          "data": {
            "text/plain": [
              "                           ADANIPOWER    GODREJ       TCS  TATAPOWER  \\\n",
              "Date                                                                   \n",
              "2022-10-28 00:00:00+05:30    5.046177  1.127416  1.455749    3.99796   \n",
              "\n",
              "                           TATACHEM      Port  \n",
              "Date                                           \n",
              "2022-10-28 00:00:00+05:30  1.977967  2.804523  "
            ],
            "text/html": [
              "\n",
              "  <div id=\"df-07d0435c-9c2b-439c-837f-0add65f968c1\">\n",
              "    <div class=\"colab-df-container\">\n",
              "      <div>\n",
              "<style scoped>\n",
              "    .dataframe tbody tr th:only-of-type {\n",
              "        vertical-align: middle;\n",
              "    }\n",
              "\n",
              "    .dataframe tbody tr th {\n",
              "        vertical-align: top;\n",
              "    }\n",
              "\n",
              "    .dataframe thead th {\n",
              "        text-align: right;\n",
              "    }\n",
              "</style>\n",
              "<table border=\"1\" class=\"dataframe\">\n",
              "  <thead>\n",
              "    <tr style=\"text-align: right;\">\n",
              "      <th></th>\n",
              "      <th>ADANIPOWER</th>\n",
              "      <th>GODREJ</th>\n",
              "      <th>TCS</th>\n",
              "      <th>TATAPOWER</th>\n",
              "      <th>TATACHEM</th>\n",
              "      <th>Port</th>\n",
              "    </tr>\n",
              "    <tr>\n",
              "      <th>Date</th>\n",
              "      <th></th>\n",
              "      <th></th>\n",
              "      <th></th>\n",
              "      <th></th>\n",
              "      <th></th>\n",
              "      <th></th>\n",
              "    </tr>\n",
              "  </thead>\n",
              "  <tbody>\n",
              "    <tr>\n",
              "      <th>2022-10-28 00:00:00+05:30</th>\n",
              "      <td>5.046177</td>\n",
              "      <td>1.127416</td>\n",
              "      <td>1.455749</td>\n",
              "      <td>3.99796</td>\n",
              "      <td>1.977967</td>\n",
              "      <td>2.804523</td>\n",
              "    </tr>\n",
              "  </tbody>\n",
              "</table>\n",
              "</div>\n",
              "      <button class=\"colab-df-convert\" onclick=\"convertToInteractive('df-07d0435c-9c2b-439c-837f-0add65f968c1')\"\n",
              "              title=\"Convert this dataframe to an interactive table.\"\n",
              "              style=\"display:none;\">\n",
              "        \n",
              "  <svg xmlns=\"http://www.w3.org/2000/svg\" height=\"24px\"viewBox=\"0 0 24 24\"\n",
              "       width=\"24px\">\n",
              "    <path d=\"M0 0h24v24H0V0z\" fill=\"none\"/>\n",
              "    <path d=\"M18.56 5.44l.94 2.06.94-2.06 2.06-.94-2.06-.94-.94-2.06-.94 2.06-2.06.94zm-11 1L8.5 8.5l.94-2.06 2.06-.94-2.06-.94L8.5 2.5l-.94 2.06-2.06.94zm10 10l.94 2.06.94-2.06 2.06-.94-2.06-.94-.94-2.06-.94 2.06-2.06.94z\"/><path d=\"M17.41 7.96l-1.37-1.37c-.4-.4-.92-.59-1.43-.59-.52 0-1.04.2-1.43.59L10.3 9.45l-7.72 7.72c-.78.78-.78 2.05 0 2.83L4 21.41c.39.39.9.59 1.41.59.51 0 1.02-.2 1.41-.59l7.78-7.78 2.81-2.81c.8-.78.8-2.07 0-2.86zM5.41 20L4 18.59l7.72-7.72 1.47 1.35L5.41 20z\"/>\n",
              "  </svg>\n",
              "      </button>\n",
              "      \n",
              "  <style>\n",
              "    .colab-df-container {\n",
              "      display:flex;\n",
              "      flex-wrap:wrap;\n",
              "      gap: 12px;\n",
              "    }\n",
              "\n",
              "    .colab-df-convert {\n",
              "      background-color: #E8F0FE;\n",
              "      border: none;\n",
              "      border-radius: 50%;\n",
              "      cursor: pointer;\n",
              "      display: none;\n",
              "      fill: #1967D2;\n",
              "      height: 32px;\n",
              "      padding: 0 0 0 0;\n",
              "      width: 32px;\n",
              "    }\n",
              "\n",
              "    .colab-df-convert:hover {\n",
              "      background-color: #E2EBFA;\n",
              "      box-shadow: 0px 1px 2px rgba(60, 64, 67, 0.3), 0px 1px 3px 1px rgba(60, 64, 67, 0.15);\n",
              "      fill: #174EA6;\n",
              "    }\n",
              "\n",
              "    [theme=dark] .colab-df-convert {\n",
              "      background-color: #3B4455;\n",
              "      fill: #D2E3FC;\n",
              "    }\n",
              "\n",
              "    [theme=dark] .colab-df-convert:hover {\n",
              "      background-color: #434B5C;\n",
              "      box-shadow: 0px 1px 3px 1px rgba(0, 0, 0, 0.15);\n",
              "      filter: drop-shadow(0px 1px 2px rgba(0, 0, 0, 0.3));\n",
              "      fill: #FFFFFF;\n",
              "    }\n",
              "  </style>\n",
              "\n",
              "      <script>\n",
              "        const buttonEl =\n",
              "          document.querySelector('#df-07d0435c-9c2b-439c-837f-0add65f968c1 button.colab-df-convert');\n",
              "        buttonEl.style.display =\n",
              "          google.colab.kernel.accessAllowed ? 'block' : 'none';\n",
              "\n",
              "        async function convertToInteractive(key) {\n",
              "          const element = document.querySelector('#df-07d0435c-9c2b-439c-837f-0add65f968c1');\n",
              "          const dataTable =\n",
              "            await google.colab.kernel.invokeFunction('convertToInteractive',\n",
              "                                                     [key], {});\n",
              "          if (!dataTable) return;\n",
              "\n",
              "          const docLinkHtml = 'Like what you see? Visit the ' +\n",
              "            '<a target=\"_blank\" href=https://colab.research.google.com/notebooks/data_table.ipynb>data table notebook</a>'\n",
              "            + ' to learn more about interactive tables.';\n",
              "          element.innerHTML = '';\n",
              "          dataTable['output_type'] = 'display_data';\n",
              "          await google.colab.output.renderOutput(dataTable, element);\n",
              "          const docLink = document.createElement('div');\n",
              "          docLink.innerHTML = docLinkHtml;\n",
              "          element.appendChild(docLink);\n",
              "        }\n",
              "      </script>\n",
              "    </div>\n",
              "  </div>\n",
              "  "
            ]
          },
          "metadata": {},
          "execution_count": 101
        }
      ]
    },
    {
      "cell_type": "code",
      "source": [
        "N = 252\n",
        "rf =0.01"
      ],
      "metadata": {
        "id": "RXTREn3zuBwR"
      },
      "execution_count": 103,
      "outputs": []
    },
    {
      "cell_type": "code",
      "source": [
        "def sortino_ratio(series, N,rf):\n",
        "    mean = series.mean() * N -rf\n",
        "    std_neg = series[series<0].std()*np.sqrt(N)\n",
        "    return mean/std_neg\n",
        "\n",
        "\n",
        "sortinos = ret_df.apply(sortino_ratio, args=(N,rf,), axis=0 )\n",
        "sortinos.plot.bar()\n",
        "plt.ylabel('Sortino Ratio')"
      ],
      "metadata": {
        "colab": {
          "base_uri": "https://localhost:8080/",
          "height": 558
        },
        "id": "cm-rPYYStl8-",
        "outputId": "bb0958d2-e087-4fbc-e3b8-f814df42efda"
      },
      "execution_count": 104,
      "outputs": [
        {
          "output_type": "execute_result",
          "data": {
            "text/plain": [
              "Text(0, 0.5, 'Sortino Ratio')"
            ]
          },
          "metadata": {},
          "execution_count": 104
        },
        {
          "output_type": "display_data",
          "data": {
            "text/plain": [
              "<Figure size 1440x576 with 1 Axes>"
            ],
            "image/png": "[encoded data removed]"
          },
          "metadata": {
            "needs_background": "light"
          }
        }
      ]
    },
    {
      "cell_type": "code",
      "source": [
        "plt.subplots(figsize=(20,8))\n",
        "plt.scatter(df['Volatility'],df['Returns'],marker='o',s=10,alpha=0.3,color='green')\n",
        "plt.scatter(min_vol[1],min_vol[0],color='y',marker='*',s=500)\n",
        "plt.scatter(optimal_risk_p[1],optimal_risk_p[0],color='b',marker='*',s=500)\n",
        "plt.scatter(sortinos[1],sortinos[0],color='r',marker='*',s=500)\n",
        "plt.xlabel(\"Risk (Volatility)\")\n",
        "plt.ylabel(\"Expected Returns\")"
      ],
      "metadata": {
        "colab": {
          "base_uri": "https://localhost:8080/",
          "height": 514
        },
        "id": "3oygf90Czno7",
        "outputId": "d3750960-e513-47f8-ce5a-0b132d1091e5"
      },
      "execution_count": 110,
      "outputs": [
        {
          "output_type": "execute_result",
          "data": {
            "text/plain": [
              "Text(0, 0.5, 'Expected Returns')"
            ]
          },
          "metadata": {},
          "execution_count": 110
        },
        {
          "output_type": "display_data",
          "data": {
            "text/plain": [
              "<Figure size 1440x576 with 1 Axes>"
            ],
            "image/png": "[encoded data removed]"
          },
          "metadata": {
            "needs_background": "light"
          }
        }
      ]
    },
    {
      "cell_type": "markdown",
      "source": [
        "Max Draw Downs : Number closer to zero as preferable"
      ],
      "metadata": {
        "id": "3MQIevGAy5jr"
      }
    },
    {
      "cell_type": "code",
      "source": [
        "def max_drawdown(return_series):\n",
        "    comp_ret = (return_series+1).cumprod()\n",
        "    peak = comp_ret.expanding(min_periods=1).max()\n",
        "    dd = (comp_ret/peak)-1\n",
        "    return dd.min()\n",
        "\n",
        "\n",
        "max_drawdowns = ret_df.apply(max_drawdown,axis=0)\n",
        "max_drawdowns.plot.bar()\n",
        "plt.ylabel('Max Drawdown')"
      ],
      "metadata": {
        "colab": {
          "base_uri": "https://localhost:8080/",
          "height": 562
        },
        "id": "mE7ZUhxlt8J3",
        "outputId": "cd8f2b1e-367c-48fe-8ede-1d726f3aa720"
      },
      "execution_count": 106,
      "outputs": [
        {
          "output_type": "execute_result",
          "data": {
            "text/plain": [
              "Text(0, 0.5, 'Max Drawdown')"
            ]
          },
          "metadata": {},
          "execution_count": 106
        },
        {
          "output_type": "display_data",
          "data": {
            "text/plain": [
              "<Figure size 1440x576 with 1 Axes>"
            ],
            "image/png": "[encoded data removed]"
          },
          "metadata": {
            "needs_background": "light"
          }
        }
      ]
    },
    {
      "cell_type": "markdown",
      "source": [
        "# Calmar Ratio\n",
        "\n",
        "Higher values are the best"
      ],
      "metadata": {
        "id": "theP-KLQzSal"
      }
    },
    {
      "cell_type": "code",
      "source": [
        "calmars = ret_df.mean()*255/abs(max_drawdowns)\n",
        "\n",
        "calmars.plot.bar()\n",
        "plt.ylabel('Calmar ratio')"
      ],
      "metadata": {
        "colab": {
          "base_uri": "https://localhost:8080/",
          "height": 561
        },
        "id": "HvqdXwi6zCKL",
        "outputId": "6c6a54b0-f989-468e-ebc6-27674b68a273"
      },
      "execution_count": 107,
      "outputs": [
        {
          "output_type": "execute_result",
          "data": {
            "text/plain": [
              "Text(0, 0.5, 'Calmar ratio')"
            ]
          },
          "metadata": {},
          "execution_count": 107
        },
        {
          "output_type": "display_data",
          "data": {
            "text/plain": [
              "<Figure size 1440x576 with 1 Axes>"
            ],
            "image/png": "[encoded data removed]"
          },
          "metadata": {
            "needs_background": "light"
          }
        }
      ]
    },
    {
      "cell_type": "code",
      "source": [],
      "metadata": {
        "id": "kC8yi38-zYo9"
      },
      "execution_count": null,
      "outputs": []
    }
  ]
}